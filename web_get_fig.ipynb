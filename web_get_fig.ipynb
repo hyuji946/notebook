{
 "metadata": {
  "name": "",
  "signature": "sha256:2f837e1fcfc50638e32aa043ac7e49d1791f22098ea10334ad083218be0e196a"
 },
 "nbformat": 3,
 "nbformat_minor": 0,
 "worksheets": [
  {
   "cells": [
    {
     "cell_type": "code",
     "collapsed": false,
     "input": [
      "#BeautifulSoup\u306b\u3088\u308bWeb\u30b9\u30af\u30ec\u30a4\u30d4\u30f3\u30b0\u3000tenki.jp \u304b\u3089\u3000\u6e29\u5ea6\u5909\u5316\u30b0\u30e9\u30d5\n",
      "from BeautifulSoup import BeautifulSoup\n",
      "import urllib2\n",
      "# \u5bfe\u8c61\u306e\u30a2\u30c9\u30ec\u30b9\n",
      "URL=\"http://www.tenki.jp/live/1/3/47418.html\"\n",
      "# Web \u304b\u3089\u30c7\u30fc\u30bf\u3092\u53d6\u5f97\u3059\u308b\n",
      "html = urllib2.urlopen(URL).read()\n",
      "soup = BeautifulSoup(html)\n",
      "print soup('td',{'class':'temp_graph_entry'})[0].find(\"img\").get(\"src\")\n"
     ],
     "language": "python",
     "metadata": {},
     "outputs": [
      {
       "output_type": "stream",
       "stream": "stdout",
       "text": [
        "http://az416740.vo.msecnd.net/static-images/live/point_graph/point_graph_47418.gif?20150208200000\n"
       ]
      }
     ],
     "prompt_number": 84
    },
    {
     "cell_type": "code",
     "collapsed": false,
     "input": [
      "#BeautifulSoup\u306b\u3088\u308bWeb\u30b9\u30af\u30ec\u30a4\u30d4\u30f3\u30b0   \u6c17\u8c61\u5e81\u304b\u3089\u5929\u6c17\u56f3\n",
      "from BeautifulSoup import BeautifulSoup\n",
      "import urllib2\n",
      "URL=\"http://www.jma.go.jp/jp/g3/\"\n",
      "# Web \u304b\u3089\u30c7\u30fc\u30bf\u3092\u53d6\u5f97\u3059\u308b\n",
      "html = urllib2.urlopen(URL).read()\n",
      "soup = BeautifulSoup(html)\n",
      "print URL+soup('div',{'id':'info'})[0].find('img').get('src')"
     ],
     "language": "python",
     "metadata": {},
     "outputs": [
      {
       "output_type": "stream",
       "stream": "stdout",
       "text": [
        "http://www.jma.go.jp/jp/g3/images/observe/15020818.png\n"
       ]
      }
     ],
     "prompt_number": 85
    },
    {
     "cell_type": "code",
     "collapsed": false,
     "input": [],
     "language": "python",
     "metadata": {},
     "outputs": []
    }
   ],
   "metadata": {}
  }
 ]
}