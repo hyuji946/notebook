{
 "metadata": {
  "name": "",
  "signature": "sha256:091460d8389527e3bccd31e03da4e2edd7df77f85edeb63e75be24bee9b395d2"
 },
 "nbformat": 3,
 "nbformat_minor": 0,
 "worksheets": [
  {
   "cells": [
    {
     "cell_type": "code",
     "collapsed": false,
     "input": [
      "%pylab inline\n"
     ],
     "language": "python",
     "metadata": {},
     "outputs": [
      {
       "output_type": "stream",
       "stream": "stdout",
       "text": [
        "Populating the interactive namespace from numpy and matplotlib\n"
       ]
      }
     ],
     "prompt_number": 1
    },
    {
     "cell_type": "markdown",
     "metadata": {},
     "source": [
      "\n",
      "##\u5316\u5b66\u5f0f\u306e\u66f8\u304d\u65b9\n",
      "---\n",
      "\n",
      "\n"
     ]
    },
    {
     "cell_type": "markdown",
     "metadata": {},
     "source": [
      "$\\require{mhchem}$"
     ]
    },
    {
     "cell_type": "markdown",
     "metadata": {},
     "source": [
      "$ \\ce{ H2O <=> 2H+ + OH- } $\n",
      "\n",
      "$\\ce{_{17}^{35}Cl}$\n",
      "\n",
      "$\\ce{A ->[h\\nu] B}$\n",
      "\n",
      "$\\ce{SO4^2- + Ba^2+ -> BaSO4 v}$  \n",
      "\n",
      "$\\ce{2H+ + 2e- -> H2 ^}$"
     ]
    },
    {
     "cell_type": "markdown",
     "metadata": {},
     "source": [
      "$\\ce{2H2O2 ->C[MnO2] O2 ^ + 2H2O }$\n",
      "\n",
      "$\\ce{2CrO4^2- + 2H+ <=>C[H+][OH-] Cr2O7^2- + H2O }$\n",
      "\n",
      "$\\ce{CuSO4.5H2O ->C[\\Delta] CuSO4.H2O + 4H2O ^ }$\n",
      "\n",
      "$\\ce{PbCl2 ->T[\u71b1\u6e6f\u306b\u6eb6\u89e3] Pb^2+ + 2Cl-}$"
     ]
    },
    {
     "cell_type": "markdown",
     "metadata": {},
     "source": [
      "$\\ce{NaCl}\\mbox{\uff08\u56fa\uff09} = \\ce{Na+}\\mbox{\uff08\u6c17\uff09} + \\ce{Cl-}\\mbox{\uff08\u6c17\uff09} - 780\\,\\mathrm{kJ}$\n",
      "\n",
      "$\\ce{HC#C - CH=CH2 + 3H2 -> CH3 - CH2 - CH2 - CH3}$"
     ]
    },
    {
     "cell_type": "code",
     "collapsed": false,
     "input": [
      "%%latex\n",
      "$x^2+1$"
     ],
     "language": "python",
     "metadata": {},
     "outputs": [
      {
       "latex": [
        "$x^2+1$"
       ],
       "metadata": {},
       "output_type": "display_data",
       "text": [
        "<IPython.core.display.Latex at 0x527d970>"
       ]
      }
     ],
     "prompt_number": 6
    },
    {
     "cell_type": "code",
     "collapsed": false,
     "input": [],
     "language": "python",
     "metadata": {},
     "outputs": []
    }
   ],
   "metadata": {}
  }
 ]
}