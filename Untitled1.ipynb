{
 "metadata": {
  "name": "",
  "signature": "sha256:92001e47f131f2ec39510ff5edc186d0beb741455945897046c022b7d00cdaff"
 },
 "nbformat": 3,
 "nbformat_minor": 0,
 "worksheets": [
  {
   "cells": [
    {
     "cell_type": "markdown",
     "metadata": {},
     "source": [
      "$\\require{mhchem}$\n",
      "$\\ce{H2O}$"
     ]
    },
    {
     "cell_type": "markdown",
     "metadata": {},
     "source": [
      "$\\ce{H2O}$"
     ]
    },
    {
     "cell_type": "code",
     "collapsed": false,
     "input": [],
     "language": "python",
     "metadata": {},
     "outputs": []
    }
   ],
   "metadata": {}
  }
 ]
}