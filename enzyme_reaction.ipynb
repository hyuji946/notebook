{
 "metadata": {
  "name": "",
  "signature": "sha256:b3b51e2d60a21e8cf0a6f7003a7a6867de98601a2c83b2a7d0aee9b27acc13b9"
 },
 "nbformat": 3,
 "nbformat_minor": 0,
 "worksheets": [
  {
   "cells": [
    {
     "cell_type": "markdown",
     "metadata": {},
     "source": [
      "#\u30df\u30ab\u30a8\u30ea\u30b9\u30fb\u30e1\u30f3\u30c6\u30f3\u5f0f \n",
      "$\\require{mhchem}$\n",
      "\u9175\u7d20\u53cd\u5fdc\u306e\u901f\u5ea6\u5f0f\u3067\u3042\u308b\u3002\u9175\u7d20E\u3001\u57fa\u8ceaS\u3001\u751f\u6210\u7269P\u3068\u3057\u305f\u3068\u304d\n",
      "\n",
      "$\\ce{S + E <=>[k+1][k-1] ES ->[k2] P + E}$\n",
      "\n",
      "\u5b9a\u5e38\u72b6\u614b\u306e\u6642\u3001\n",
      "\n",
      "$k_{+1} [S][E] = k_{2}[ES] + k_{-1} [ES]$\n",
      "\n",
      "$K=[E][S]/[ES]$   (1)\n",
      "\n",
      "$[E]=E0-[ES]$     (2)\n",
      "\n",
      "(1),(2)\u3088\u308a\n",
      "\n",
      "$[ES]=E0[S]/(K+[S])$\n",
      "\n",
      "$v=k_{2}[ES]$\u3000\u306a\u306e\u3067\n",
      "\n",
      "$v=k_{2}E0[S]/(Km+[S])$\n",
      "\n",
      "$S>>E\u306e\u6642\uff08\u9175\u7d20\u304c\u57fa\u8cea\u3067\u98fd\u548c\u3057\u3066\u3044\u308b\u3002\uff09$\n",
      "\n",
      "$Vm=k_{2}E0$\n",
      "\n",
      "$v=Vm[S]/(Km+[S])$\n",
      "\n",
      "\n",
      "\n",
      "\n",
      "\n",
      "\n",
      "\n",
      "\n"
     ]
    },
    {
     "cell_type": "code",
     "collapsed": false,
     "input": [
      "km=1\n",
      "vm=100\n",
      "def v(S):\n",
      "    return vm*S/(km+S)\n",
      "x=linspace(0,20,100)\n",
      "y=v(x)\n",
      "plot(x,y)"
     ],
     "language": "python",
     "metadata": {},
     "outputs": [
      {
       "metadata": {},
       "output_type": "pyout",
       "prompt_number": 31,
       "text": [
        "[<matplotlib.lines.Line2D at 0x8ad00d0>]"
       ]
      },
      {
       "metadata": {},
       "output_type": "display_data",
       "png": "[encoded data removed]",
       "text": [
        "<matplotlib.figure.Figure at 0x8ad7250>"
       ]
      }
     ],
     "prompt_number": 31
    },
    {
     "cell_type": "code",
     "collapsed": false,
     "input": [
      "from sympy import limit\n",
      "from sympy import Symbol\n",
      "S=Symbol('S')\n",
      "Vm=Symbol('Vm')\n",
      "Km=Symbol('Km')\n",
      "def V(x):\n",
      "    return Vm*x/(Km+x)\n",
      "print 'V\u306e\u6975\u9650\u5024(S=oo)=',limit(Vm*S/(Km+S),S,inf)\n",
      "print 'S=Km\u306e\u6642\u3000v = ',V(Km)"
     ],
     "language": "python",
     "metadata": {},
     "outputs": [
      {
       "output_type": "stream",
       "stream": "stdout",
       "text": [
        "V\u306e\u6975\u9650\u5024(S=oo)= Vm\n",
        "S=Km\u306e\u6642\u3000v =  Vm/2\n"
       ]
      }
     ],
     "prompt_number": 32
    },
    {
     "cell_type": "code",
     "collapsed": false,
     "input": [
      "plot(x,y,'k')\n",
      "\n",
      "a=v(km)\n",
      "plot([km,km],[0,a],'k--')\n",
      "plot([0,km],[a,a],'k--')\n",
      "xlabel('S')\n",
      "ylabel('V')\n",
      "annotate('(Km,1/2Vm)',xy=(km,v(km)))"
     ],
     "language": "python",
     "metadata": {},
     "outputs": [
      {
       "metadata": {},
       "output_type": "pyout",
       "prompt_number": 42,
       "text": [
        "<matplotlib.text.Annotation at 0x8bfa270>"
       ]
      },
      {
       "metadata": {},
       "output_type": "display_data",
       "png": "[encoded data removed]",
       "text": [
        "<matplotlib.figure.Figure at 0x912ba50>"
       ]
      }
     ],
     "prompt_number": 42
    },
    {
     "cell_type": "markdown",
     "metadata": {},
     "source": [
      "---\n",
      "#\u4e21\u9006\u6570\u30d7\u30ed\u30c3\u30c8\n",
      "\n",
      "\u4e21\u9006\u6570\u30d7\u30ed\u30c3\u30c8\u3092\u53d6\u308b\u3068\u5207\u7247\u304c$\\frac{1}{Vm}$\u50be\u304d\u304c$\\frac{Km}{Vm}$\u306e\u76f4\u7dda\u306b\u306a\u308b\u3002\n",
      "\n",
      "$$\\frac{1}{V}=\\frac{Km}{Vm}\\frac{1}{S}+\\frac{1}{Vm}$$\n"
     ]
    },
    {
     "cell_type": "code",
     "collapsed": false,
     "input": [
      "X=1/x[1:]\n",
      "Y=1/y[1:]"
     ],
     "language": "python",
     "metadata": {},
     "outputs": [],
     "prompt_number": 45
    },
    {
     "cell_type": "code",
     "collapsed": false,
     "input": [
      "plot(X,Y,'k')\n",
      "ylim(0,0.06)\n",
      "xlabel('1/S')\n",
      "ylabel('1/V')\n",
      "annotate('1/Vm',xy=(0.1,0.008))"
     ],
     "language": "python",
     "metadata": {},
     "outputs": [
      {
       "metadata": {},
       "output_type": "pyout",
       "prompt_number": 62,
       "text": [
        "<matplotlib.text.Annotation at 0xa5b2590>"
       ]
      },
      {
       "metadata": {},
       "output_type": "display_data",
       "png": "[encoded data removed]",
       "text": [
        "<matplotlib.figure.Figure at 0xa41feb0>"
       ]
      }
     ],
     "prompt_number": 62
    }
   ],
   "metadata": {}
  }
 ]
}